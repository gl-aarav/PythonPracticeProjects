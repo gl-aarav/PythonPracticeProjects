{
 "cells": [
  {
   "cell_type": "code",
   "id": "initial_id",
   "metadata": {
    "collapsed": true,
    "ExecuteTime": {
     "end_time": "2025-07-15T04:32:34.949257Z",
     "start_time": "2025-07-15T04:32:34.940913Z"
    }
   },
   "source": "import numpy as np",
   "outputs": [],
   "execution_count": 16
  },
  {
   "metadata": {
    "ExecuteTime": {
     "end_time": "2025-07-15T04:32:35.957189Z",
     "start_time": "2025-07-15T04:32:35.952909Z"
    }
   },
   "cell_type": "code",
   "source": [
    "#Create a 5x5 array\n",
    "array_aarav = np.array([[1,2,3,4,5],\n",
    "                       [6,7,8,10,11],\n",
    "                       [12,13,14,15,16],\n",
    "                       [17,18,19,20,21],\n",
    "                       [22,23,24,25,26]])"
   ],
   "id": "9fd4a403a1f046d6",
   "outputs": [],
   "execution_count": 17
  },
  {
   "metadata": {
    "ExecuteTime": {
     "end_time": "2025-07-15T04:32:36.470457Z",
     "start_time": "2025-07-15T04:32:36.466036Z"
    }
   },
   "cell_type": "code",
   "source": "print(array_aarav)",
   "id": "4588ab94fb297e9f",
   "outputs": [
    {
     "name": "stdout",
     "output_type": "stream",
     "text": [
      "[[ 1  2  3  4  5]\n",
      " [ 6  7  8 10 11]\n",
      " [12 13 14 15 16]\n",
      " [17 18 19 20 21]\n",
      " [22 23 24 25 26]]\n"
     ]
    }
   ],
   "execution_count": 18
  },
  {
   "metadata": {
    "ExecuteTime": {
     "end_time": "2025-07-15T04:32:36.519874Z",
     "start_time": "2025-07-15T04:32:36.517137Z"
    }
   },
   "cell_type": "code",
   "source": "print(array_aarav[4])",
   "id": "c4fd921a0d37dabf",
   "outputs": [
    {
     "name": "stdout",
     "output_type": "stream",
     "text": [
      "[22 23 24 25 26]\n"
     ]
    }
   ],
   "execution_count": 19
  },
  {
   "metadata": {
    "ExecuteTime": {
     "end_time": "2025-07-15T04:32:36.542302Z",
     "start_time": "2025-07-15T04:32:36.540131Z"
    }
   },
   "cell_type": "code",
   "source": "array_aarav[4,:]",
   "id": "fe84decf2ed70336",
   "outputs": [
    {
     "data": {
      "text/plain": [
       "array([22, 23, 24, 25, 26])"
      ]
     },
     "execution_count": 20,
     "metadata": {},
     "output_type": "execute_result"
    }
   ],
   "execution_count": 20
  },
  {
   "metadata": {
    "ExecuteTime": {
     "end_time": "2025-07-15T04:32:36.583447Z",
     "start_time": "2025-07-15T04:32:36.580233Z"
    }
   },
   "cell_type": "code",
   "source": "array_aarav[:,3]",
   "id": "5e5571e4f2a6ea2e",
   "outputs": [
    {
     "data": {
      "text/plain": [
       "array([ 4, 10, 15, 20, 25])"
      ]
     },
     "execution_count": 21,
     "metadata": {},
     "output_type": "execute_result"
    }
   ],
   "execution_count": 21
  },
  {
   "metadata": {
    "ExecuteTime": {
     "end_time": "2025-07-15T04:32:36.659485Z",
     "start_time": "2025-07-15T04:32:36.657924Z"
    }
   },
   "cell_type": "code",
   "source": "",
   "id": "c46b93acf277d46c",
   "outputs": [],
   "execution_count": null
  },
  {
   "metadata": {
    "ExecuteTime": {
     "end_time": "2025-07-15T04:32:36.674725Z",
     "start_time": "2025-07-15T04:32:36.672949Z"
    }
   },
   "cell_type": "code",
   "source": [
    "#Array Slicing\n",
    "array_slicing = np.arange(10,41)"
   ],
   "id": "f7e50c60c87e94c",
   "outputs": [],
   "execution_count": 22
  },
  {
   "metadata": {
    "ExecuteTime": {
     "end_time": "2025-07-15T04:32:36.688413Z",
     "start_time": "2025-07-15T04:32:36.686123Z"
    }
   },
   "cell_type": "code",
   "source": "array_slicing",
   "id": "f41baabe2289394e",
   "outputs": [
    {
     "data": {
      "text/plain": [
       "array([10, 11, 12, 13, 14, 15, 16, 17, 18, 19, 20, 21, 22, 23, 24, 25, 26,\n",
       "       27, 28, 29, 30, 31, 32, 33, 34, 35, 36, 37, 38, 39, 40])"
      ]
     },
     "execution_count": 23,
     "metadata": {},
     "output_type": "execute_result"
    }
   ],
   "execution_count": 23
  },
  {
   "metadata": {
    "ExecuteTime": {
     "end_time": "2025-07-15T04:32:36.769142Z",
     "start_time": "2025-07-15T04:32:36.766916Z"
    }
   },
   "cell_type": "code",
   "source": "array_slicing[3::2]",
   "id": "bc75201c219c3f9f",
   "outputs": [
    {
     "data": {
      "text/plain": [
       "array([13, 15, 17, 19, 21, 23, 25, 27, 29, 31, 33, 35, 37, 39])"
      ]
     },
     "execution_count": 24,
     "metadata": {},
     "output_type": "execute_result"
    }
   ],
   "execution_count": 24
  },
  {
   "metadata": {
    "ExecuteTime": {
     "end_time": "2025-07-15T04:32:36.838069Z",
     "start_time": "2025-07-15T04:32:36.836385Z"
    }
   },
   "cell_type": "code",
   "source": [
    "#2D Array Slicing\n",
    "array_2d_slicing = np.arange(30).reshape(6,5)"
   ],
   "id": "ddd1c2945c8c4622",
   "outputs": [],
   "execution_count": 25
  },
  {
   "metadata": {
    "ExecuteTime": {
     "end_time": "2025-07-15T04:32:36.853161Z",
     "start_time": "2025-07-15T04:32:36.850923Z"
    }
   },
   "cell_type": "code",
   "source": "array_2d_slicing",
   "id": "1a248a49fc3c7b68",
   "outputs": [
    {
     "data": {
      "text/plain": [
       "array([[ 0,  1,  2,  3,  4],\n",
       "       [ 5,  6,  7,  8,  9],\n",
       "       [10, 11, 12, 13, 14],\n",
       "       [15, 16, 17, 18, 19],\n",
       "       [20, 21, 22, 23, 24],\n",
       "       [25, 26, 27, 28, 29]])"
      ]
     },
     "execution_count": 26,
     "metadata": {},
     "output_type": "execute_result"
    }
   ],
   "execution_count": 26
  },
  {
   "metadata": {
    "ExecuteTime": {
     "end_time": "2025-07-15T04:32:36.891576Z",
     "start_time": "2025-07-15T04:32:36.889278Z"
    }
   },
   "cell_type": "code",
   "source": "array_2d_slicing[0:2]",
   "id": "6bdd0c71df0c22c7",
   "outputs": [
    {
     "data": {
      "text/plain": [
       "array([[0, 1, 2, 3, 4],\n",
       "       [5, 6, 7, 8, 9]])"
      ]
     },
     "execution_count": 27,
     "metadata": {},
     "output_type": "execute_result"
    }
   ],
   "execution_count": 27
  },
  {
   "metadata": {
    "ExecuteTime": {
     "end_time": "2025-07-15T04:32:37.307336Z",
     "start_time": "2025-07-15T04:32:37.305741Z"
    }
   },
   "cell_type": "code",
   "source": "",
   "id": "a755b826e8a11d10",
   "outputs": [],
   "execution_count": null
  },
  {
   "metadata": {
    "ExecuteTime": {
     "end_time": "2025-07-15T04:32:37.487943Z",
     "start_time": "2025-07-15T04:32:37.484842Z"
    }
   },
   "cell_type": "code",
   "source": [
    "#array operators\n",
    "array_operators = np.arange(1,20)"
   ],
   "id": "af44f2193b7e228d",
   "outputs": [],
   "execution_count": 28
  },
  {
   "metadata": {
    "ExecuteTime": {
     "end_time": "2025-07-15T04:32:37.625404Z",
     "start_time": "2025-07-15T04:32:37.621986Z"
    }
   },
   "cell_type": "code",
   "source": "array_operators",
   "id": "84296294ffe8c17e",
   "outputs": [
    {
     "data": {
      "text/plain": [
       "array([ 1,  2,  3,  4,  5,  6,  7,  8,  9, 10, 11, 12, 13, 14, 15, 16, 17,\n",
       "       18, 19])"
      ]
     },
     "execution_count": 29,
     "metadata": {},
     "output_type": "execute_result"
    }
   ],
   "execution_count": 29
  },
  {
   "metadata": {
    "ExecuteTime": {
     "end_time": "2025-07-15T04:32:37.782166Z",
     "start_time": "2025-07-15T04:32:37.778871Z"
    }
   },
   "cell_type": "code",
   "source": "array_operators[(array_operators <=6) & (array_operators >= 4)]",
   "id": "c8920a2ef303f65a",
   "outputs": [
    {
     "data": {
      "text/plain": [
       "array([4, 5, 6])"
      ]
     },
     "execution_count": 30,
     "metadata": {},
     "output_type": "execute_result"
    }
   ],
   "execution_count": 30
  },
  {
   "metadata": {
    "ExecuteTime": {
     "end_time": "2025-07-15T04:32:38.122120Z",
     "start_time": "2025-07-15T04:32:38.120012Z"
    }
   },
   "cell_type": "code",
   "source": "",
   "id": "1c6e282e1ea5c057",
   "outputs": [],
   "execution_count": null
  }
 ],
 "metadata": {
  "kernelspec": {
   "display_name": "Python 3",
   "language": "python",
   "name": "python3"
  },
  "language_info": {
   "codemirror_mode": {
    "name": "ipython",
    "version": 2
   },
   "file_extension": ".py",
   "mimetype": "text/x-python",
   "name": "python",
   "nbconvert_exporter": "python",
   "pygments_lexer": "ipython2",
   "version": "2.7.6"
  }
 },
 "nbformat": 4,
 "nbformat_minor": 5
}
