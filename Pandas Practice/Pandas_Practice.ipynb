{
 "cells": [
  {
   "cell_type": "code",
   "id": "initial_id",
   "metadata": {
    "ExecuteTime": {
     "end_time": "2025-07-15T04:27:31.910529Z",
     "start_time": "2025-07-15T04:27:31.755223Z"
    }
   },
   "source": "import pandas as pd",
   "outputs": [],
   "execution_count": 2
  },
  {
   "metadata": {
    "ExecuteTime": {
     "end_time": "2025-07-15T04:27:32.261169Z",
     "start_time": "2025-07-15T04:27:32.257442Z"
    }
   },
   "cell_type": "code",
   "source": "## Understanding Series",
   "id": "442397c7dc8dd453",
   "outputs": [],
   "execution_count": 3
  },
  {
   "cell_type": "code",
   "id": "d1e8f60c3edcefbe",
   "metadata": {
    "ExecuteTime": {
     "end_time": "2025-07-15T04:27:32.290413Z",
     "start_time": "2025-07-15T04:27:32.285592Z"
    }
   },
   "source": [
    "pd.Series([10, 20, 30, 40, 50])"
   ],
   "outputs": [
    {
     "data": {
      "text/plain": [
       "0    10\n",
       "1    20\n",
       "2    30\n",
       "3    40\n",
       "4    50\n",
       "dtype: int64"
      ]
     },
     "execution_count": 4,
     "metadata": {},
     "output_type": "execute_result"
    }
   ],
   "execution_count": 4
  },
  {
   "cell_type": "code",
   "id": "6a51c3ee6218b71f",
   "metadata": {
    "ExecuteTime": {
     "end_time": "2025-07-15T04:27:32.331281Z",
     "start_time": "2025-07-15T04:27:32.329591Z"
    }
   },
   "source": [
    "list_data = [1, 20, 30, 40, 50]\n",
    "list_index = [\"a\", \"b\", \"c\", \"d\", \"e\"]"
   ],
   "outputs": [],
   "execution_count": 5
  },
  {
   "metadata": {
    "ExecuteTime": {
     "end_time": "2025-07-15T04:27:32.385110Z",
     "start_time": "2025-07-15T04:27:32.382121Z"
    }
   },
   "cell_type": "code",
   "source": [
    "variable = pd.Series(data = list_data, index = list_index)\n",
    "type(variable)"
   ],
   "id": "97df43caff9f61a3",
   "outputs": [
    {
     "data": {
      "text/plain": [
       "pandas.core.series.Series"
      ]
     },
     "execution_count": 6,
     "metadata": {},
     "output_type": "execute_result"
    }
   ],
   "execution_count": 6
  },
  {
   "metadata": {
    "ExecuteTime": {
     "end_time": "2025-07-15T04:27:32.399593Z",
     "start_time": "2025-07-15T04:27:32.398022Z"
    }
   },
   "cell_type": "code",
   "source": "## Understanding Dictionaries",
   "id": "cfd413e06a665373",
   "outputs": [],
   "execution_count": 7
  },
  {
   "metadata": {
    "ExecuteTime": {
     "end_time": "2025-07-15T04:27:32.425148Z",
     "start_time": "2025-07-15T04:27:32.423462Z"
    }
   },
   "cell_type": "code",
   "source": "dictionary = {\"ferrari\" : 334.7, \"porsche\" : 337.9, \"lamborghini\" : 349}",
   "id": "5097e9e62f312e4c",
   "outputs": [],
   "execution_count": 8
  },
  {
   "metadata": {
    "ExecuteTime": {
     "end_time": "2025-07-15T04:27:32.455190Z",
     "start_time": "2025-07-15T04:27:32.451661Z"
    }
   },
   "cell_type": "code",
   "source": "pd.Series(data = dictionary)",
   "id": "854564c67dd78f84",
   "outputs": [
    {
     "data": {
      "text/plain": [
       "ferrari        334.7\n",
       "porsche        337.9\n",
       "lamborghini    349.0\n",
       "dtype: float64"
      ]
     },
     "execution_count": 9,
     "metadata": {},
     "output_type": "execute_result"
    }
   ],
   "execution_count": 9
  },
  {
   "metadata": {
    "ExecuteTime": {
     "end_time": "2025-07-15T04:27:32.495206Z",
     "start_time": "2025-07-15T04:27:32.490671Z"
    }
   },
   "cell_type": "code",
   "source": [
    "variable = pd.Series(data = dictionary, index = [\"porsche\", \"bugatti\", \"ferrari\"])\n",
    "variable"
   ],
   "id": "670e7691f5d4ee17",
   "outputs": [
    {
     "data": {
      "text/plain": [
       "porsche    337.9\n",
       "bugatti      NaN\n",
       "ferrari    334.7\n",
       "dtype: float64"
      ]
     },
     "execution_count": 10,
     "metadata": {},
     "output_type": "execute_result"
    }
   ],
   "execution_count": 10
  },
  {
   "metadata": {
    "ExecuteTime": {
     "end_time": "2025-07-15T04:27:32.545094Z",
     "start_time": "2025-07-15T04:27:32.543551Z"
    }
   },
   "cell_type": "code",
   "source": "## Using numpy with pandas",
   "id": "e55f88223f63a605",
   "outputs": [],
   "execution_count": 11
  },
  {
   "metadata": {
    "ExecuteTime": {
     "end_time": "2025-07-15T04:27:32.590653Z",
     "start_time": "2025-07-15T04:27:32.588698Z"
    }
   },
   "cell_type": "code",
   "source": "import numpy as np",
   "id": "6dbe79d3dd067860",
   "outputs": [],
   "execution_count": 12
  },
  {
   "metadata": {
    "ExecuteTime": {
     "end_time": "2025-07-15T04:27:32.613450Z",
     "start_time": "2025-07-15T04:27:32.611727Z"
    }
   },
   "cell_type": "code",
   "source": [
    "example = np.array([1, 3.3, 5, 7.2, 9])\n",
    "labels = [\"a\", \"b\", \"c\", \"d\", \"e\"]"
   ],
   "id": "9d0d70266e9de1a2",
   "outputs": [],
   "execution_count": 13
  },
  {
   "metadata": {
    "ExecuteTime": {
     "end_time": "2025-07-15T04:27:32.635409Z",
     "start_time": "2025-07-15T04:27:32.632436Z"
    }
   },
   "cell_type": "code",
   "source": [
    "variable = pd.Series(data = example, index = labels)\n",
    "variable"
   ],
   "id": "28d8be980f26b540",
   "outputs": [
    {
     "data": {
      "text/plain": [
       "a    1.0\n",
       "b    3.3\n",
       "c    5.0\n",
       "d    7.2\n",
       "e    9.0\n",
       "dtype: float64"
      ]
     },
     "execution_count": 14,
     "metadata": {},
     "output_type": "execute_result"
    }
   ],
   "execution_count": 14
  },
  {
   "metadata": {
    "ExecuteTime": {
     "end_time": "2025-07-15T04:27:32.673904Z",
     "start_time": "2025-07-15T04:27:32.671728Z"
    }
   },
   "cell_type": "code",
   "source": "##Object Types",
   "id": "d490cf8a95b4fcaa",
   "outputs": [],
   "execution_count": 15
  },
  {
   "metadata": {
    "ExecuteTime": {
     "end_time": "2025-07-15T04:27:32.994629Z",
     "start_time": "2025-07-15T04:27:32.990951Z"
    }
   },
   "cell_type": "code",
   "source": "pd.Series([\"World\", 100, 5.7, False])",
   "id": "5d278cc87fa8b40e",
   "outputs": [
    {
     "data": {
      "text/plain": [
       "0    World\n",
       "1      100\n",
       "2      5.7\n",
       "3    False\n",
       "dtype: object"
      ]
     },
     "execution_count": 16,
     "metadata": {},
     "output_type": "execute_result"
    }
   ],
   "execution_count": 16
  },
  {
   "metadata": {
    "ExecuteTime": {
     "end_time": "2025-07-15T04:27:33.136276Z",
     "start_time": "2025-07-15T04:27:33.133137Z"
    }
   },
   "cell_type": "code",
   "source": [
    "example = pd.Series([\"World\", 100, 5.7, False])\n",
    "example[0]"
   ],
   "id": "6a5258899d27c536",
   "outputs": [
    {
     "data": {
      "text/plain": [
       "'World'"
      ]
     },
     "execution_count": 17,
     "metadata": {},
     "output_type": "execute_result"
    }
   ],
   "execution_count": 17
  },
  {
   "metadata": {
    "ExecuteTime": {
     "end_time": "2025-07-15T04:30:05.087327Z",
     "start_time": "2025-07-15T04:30:05.078977Z"
    }
   },
   "cell_type": "code",
   "source": [
    "print(type(example[0]))\n",
    "print(type(example[1]))\n",
    "print(type(example[2]))\n",
    "print(type(example[3]))"
   ],
   "id": "e71441be2d180c36",
   "outputs": [
    {
     "name": "stdout",
     "output_type": "stream",
     "text": [
      "<class 'str'>\n",
      "<class 'int'>\n",
      "<class 'float'>\n",
      "<class 'bool'>\n"
     ]
    }
   ],
   "execution_count": 18
  },
  {
   "metadata": {
    "ExecuteTime": {
     "end_time": "2025-07-15T04:30:05.338220Z",
     "start_time": "2025-07-15T04:30:05.330480Z"
    }
   },
   "cell_type": "code",
   "source": "pd.Series([sum, type,max])",
   "id": "3bf65303fcdbe2b0",
   "outputs": [
    {
     "data": {
      "text/plain": [
       "0    <built-in function sum>\n",
       "1             <class 'type'>\n",
       "2    <built-in function max>\n",
       "dtype: object"
      ]
     },
     "execution_count": 19,
     "metadata": {},
     "output_type": "execute_result"
    }
   ],
   "execution_count": 19
  },
  {
   "metadata": {
    "ExecuteTime": {
     "end_time": "2025-07-15T04:30:05.822946Z",
     "start_time": "2025-07-15T04:30:05.820411Z"
    }
   },
   "cell_type": "code",
   "source": "## Most Important Methods",
   "id": "3f7a8d64df18a7b0",
   "outputs": [],
   "execution_count": 20
  },
  {
   "metadata": {
    "ExecuteTime": {
     "end_time": "2025-07-15T04:30:05.854669Z",
     "start_time": "2025-07-15T04:30:05.852252Z"
    }
   },
   "cell_type": "code",
   "source": "variable = pd.Series([8, 3, 6, 5, 1], index = [\"b\", \"d\", \"c\", \"a\", \"e\"])",
   "id": "6c8538aa655cd244",
   "outputs": [],
   "execution_count": 21
  },
  {
   "metadata": {
    "ExecuteTime": {
     "end_time": "2025-07-15T04:30:05.890603Z",
     "start_time": "2025-07-15T04:30:05.886591Z"
    }
   },
   "cell_type": "code",
   "source": [
    "new_variable = variable.sort_index() ## Sort by index\n",
    "new_variable"
   ],
   "id": "96bf80c2f5fdc209",
   "outputs": [
    {
     "data": {
      "text/plain": [
       "a    5\n",
       "b    8\n",
       "c    6\n",
       "d    3\n",
       "e    1\n",
       "dtype: int64"
      ]
     },
     "execution_count": 22,
     "metadata": {},
     "output_type": "execute_result"
    }
   ],
   "execution_count": 22
  },
  {
   "metadata": {
    "ExecuteTime": {
     "end_time": "2025-07-15T04:30:05.929803Z",
     "start_time": "2025-07-15T04:30:05.926542Z"
    }
   },
   "cell_type": "code",
   "source": [
    "new_variable = variable.sort_values() ## Sort by values\n",
    "new_variable"
   ],
   "id": "c75818bfb5b2ad52",
   "outputs": [
    {
     "data": {
      "text/plain": [
       "e    1\n",
       "d    3\n",
       "a    5\n",
       "c    6\n",
       "b    8\n",
       "dtype: int64"
      ]
     },
     "execution_count": 23,
     "metadata": {},
     "output_type": "execute_result"
    }
   ],
   "execution_count": 23
  },
  {
   "metadata": {
    "ExecuteTime": {
     "end_time": "2025-07-15T04:30:05.991526Z",
     "start_time": "2025-07-15T04:30:05.987251Z"
    }
   },
   "cell_type": "code",
   "source": "variable.isin([6,1])",
   "id": "da7a85ee977c0cdc",
   "outputs": [
    {
     "data": {
      "text/plain": [
       "b    False\n",
       "d    False\n",
       "c     True\n",
       "a    False\n",
       "e     True\n",
       "dtype: bool"
      ]
     },
     "execution_count": 24,
     "metadata": {},
     "output_type": "execute_result"
    }
   ],
   "execution_count": 24
  },
  {
   "metadata": {
    "ExecuteTime": {
     "end_time": "2025-07-15T04:30:06.079455Z",
     "start_time": "2025-07-15T04:30:06.075856Z"
    }
   },
   "cell_type": "code",
   "source": "variable[variable.isin([6,1])]",
   "id": "99bf0866164bf8ba",
   "outputs": [
    {
     "data": {
      "text/plain": [
       "c    6\n",
       "e    1\n",
       "dtype: int64"
      ]
     },
     "execution_count": 25,
     "metadata": {},
     "output_type": "execute_result"
    }
   ],
   "execution_count": 25
  },
  {
   "metadata": {
    "ExecuteTime": {
     "end_time": "2025-07-15T04:30:06.128749Z",
     "start_time": "2025-07-15T04:30:06.126147Z"
    }
   },
   "cell_type": "code",
   "source": "variable.values",
   "id": "be874918cfbb7828",
   "outputs": [
    {
     "data": {
      "text/plain": [
       "array([8, 3, 6, 5, 1])"
      ]
     },
     "execution_count": 26,
     "metadata": {},
     "output_type": "execute_result"
    }
   ],
   "execution_count": 26
  },
  {
   "metadata": {
    "ExecuteTime": {
     "end_time": "2025-07-15T04:30:10.255167Z",
     "start_time": "2025-07-15T04:30:10.249895Z"
    }
   },
   "cell_type": "code",
   "source": "[i for i in variable.values]",
   "id": "7c8cf42601d84dfe",
   "outputs": [
    {
     "data": {
      "text/plain": [
       "[np.int64(8), np.int64(3), np.int64(6), np.int64(5), np.int64(1)]"
      ]
     },
     "execution_count": 27,
     "metadata": {},
     "output_type": "execute_result"
    }
   ],
   "execution_count": 27
  },
  {
   "metadata": {
    "ExecuteTime": {
     "end_time": "2025-06-22T23:04:09.111080Z",
     "start_time": "2025-06-22T23:04:09.108550Z"
    }
   },
   "cell_type": "code",
   "source": "",
   "id": "e7bd860a1fcfae3b",
   "outputs": [],
   "execution_count": null
  }
 ],
 "metadata": {
  "kernelspec": {
   "display_name": "Python [conda env:base] *",
   "language": "python",
   "name": "conda-base-py"
  },
  "language_info": {
   "codemirror_mode": {
    "name": "ipython",
    "version": 3
   },
   "file_extension": ".py",
   "mimetype": "text/x-python",
   "name": "python",
   "nbconvert_exporter": "python",
   "pygments_lexer": "ipython3",
   "version": "3.12.7"
  }
 },
 "nbformat": 4,
 "nbformat_minor": 5
}
