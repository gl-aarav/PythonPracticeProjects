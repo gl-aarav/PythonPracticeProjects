{
 "cells": [
  {
   "cell_type": "code",
   "id": "initial_id",
   "metadata": {
    "ExecuteTime": {
     "end_time": "2025-07-19T16:51:33.619433Z",
     "start_time": "2025-07-19T16:51:33.479559Z"
    }
   },
   "source": "import pandas as pd",
   "outputs": [],
   "execution_count": 1
  },
  {
   "metadata": {
    "ExecuteTime": {
     "end_time": "2025-07-19T16:51:33.671989Z",
     "start_time": "2025-07-19T16:51:33.670662Z"
    }
   },
   "cell_type": "code",
   "source": "## Understanding Series",
   "id": "442397c7dc8dd453",
   "outputs": [],
   "execution_count": 2
  },
  {
   "cell_type": "code",
   "id": "d1e8f60c3edcefbe",
   "metadata": {
    "ExecuteTime": {
     "end_time": "2025-07-19T16:51:33.681486Z",
     "start_time": "2025-07-19T16:51:33.677616Z"
    }
   },
   "source": [
    "pd.Series([10, 20, 30, 40, 50])"
   ],
   "outputs": [
    {
     "data": {
      "text/plain": [
       "0    10\n",
       "1    20\n",
       "2    30\n",
       "3    40\n",
       "4    50\n",
       "dtype: int64"
      ]
     },
     "execution_count": 3,
     "metadata": {},
     "output_type": "execute_result"
    }
   ],
   "execution_count": 3
  },
  {
   "cell_type": "code",
   "id": "6a51c3ee6218b71f",
   "metadata": {
    "ExecuteTime": {
     "end_time": "2025-07-19T16:51:33.704789Z",
     "start_time": "2025-07-19T16:51:33.702691Z"
    }
   },
   "source": [
    "list_data = [1, 20, 30, 40, 50]\n",
    "list_index = [\"a\", \"b\", \"c\", \"d\", \"e\"]"
   ],
   "outputs": [],
   "execution_count": 4
  },
  {
   "metadata": {
    "ExecuteTime": {
     "end_time": "2025-07-19T16:51:33.734444Z",
     "start_time": "2025-07-19T16:51:33.731378Z"
    }
   },
   "cell_type": "code",
   "source": [
    "variable = pd.Series(data = list_data, index = list_index)\n",
    "type(variable)"
   ],
   "id": "97df43caff9f61a3",
   "outputs": [
    {
     "data": {
      "text/plain": [
       "pandas.core.series.Series"
      ]
     },
     "execution_count": 5,
     "metadata": {},
     "output_type": "execute_result"
    }
   ],
   "execution_count": 5
  },
  {
   "metadata": {
    "ExecuteTime": {
     "end_time": "2025-07-19T16:51:33.747838Z",
     "start_time": "2025-07-19T16:51:33.745735Z"
    }
   },
   "cell_type": "code",
   "source": "## Understanding Dictionaries",
   "id": "cfd413e06a665373",
   "outputs": [],
   "execution_count": 6
  },
  {
   "metadata": {
    "ExecuteTime": {
     "end_time": "2025-07-19T16:51:33.755732Z",
     "start_time": "2025-07-19T16:51:33.753409Z"
    }
   },
   "cell_type": "code",
   "source": "dictionary = {\"ferrari\" : 334.7, \"porsche\" : 337.9, \"lamborghini\" : 349}",
   "id": "5097e9e62f312e4c",
   "outputs": [],
   "execution_count": 7
  },
  {
   "metadata": {
    "ExecuteTime": {
     "end_time": "2025-07-19T16:51:33.764986Z",
     "start_time": "2025-07-19T16:51:33.761665Z"
    }
   },
   "cell_type": "code",
   "source": "pd.Series(data = dictionary)",
   "id": "854564c67dd78f84",
   "outputs": [
    {
     "data": {
      "text/plain": [
       "ferrari        334.7\n",
       "porsche        337.9\n",
       "lamborghini    349.0\n",
       "dtype: float64"
      ]
     },
     "execution_count": 8,
     "metadata": {},
     "output_type": "execute_result"
    }
   ],
   "execution_count": 8
  },
  {
   "metadata": {
    "ExecuteTime": {
     "end_time": "2025-07-19T16:51:33.793522Z",
     "start_time": "2025-07-19T16:51:33.788342Z"
    }
   },
   "cell_type": "code",
   "source": [
    "variable = pd.Series(data = dictionary, index = [\"porsche\", \"bugatti\", \"ferrari\"])\n",
    "variable"
   ],
   "id": "670e7691f5d4ee17",
   "outputs": [
    {
     "data": {
      "text/plain": [
       "porsche    337.9\n",
       "bugatti      NaN\n",
       "ferrari    334.7\n",
       "dtype: float64"
      ]
     },
     "execution_count": 9,
     "metadata": {},
     "output_type": "execute_result"
    }
   ],
   "execution_count": 9
  },
  {
   "metadata": {
    "ExecuteTime": {
     "end_time": "2025-07-19T16:51:33.853403Z",
     "start_time": "2025-07-19T16:51:33.851535Z"
    }
   },
   "cell_type": "code",
   "source": "## Using numpy with pandas",
   "id": "e55f88223f63a605",
   "outputs": [],
   "execution_count": 10
  },
  {
   "metadata": {
    "ExecuteTime": {
     "end_time": "2025-07-19T16:51:33.882018Z",
     "start_time": "2025-07-19T16:51:33.880529Z"
    }
   },
   "cell_type": "code",
   "source": "import numpy as np",
   "id": "6dbe79d3dd067860",
   "outputs": [],
   "execution_count": 11
  },
  {
   "metadata": {
    "ExecuteTime": {
     "end_time": "2025-07-19T16:51:33.895324Z",
     "start_time": "2025-07-19T16:51:33.893159Z"
    }
   },
   "cell_type": "code",
   "source": [
    "example = np.array([1, 3.3, 5, 7.2, 9])\n",
    "labels = [\"a\", \"b\", \"c\", \"d\", \"e\"]"
   ],
   "id": "9d0d70266e9de1a2",
   "outputs": [],
   "execution_count": 12
  },
  {
   "metadata": {
    "ExecuteTime": {
     "end_time": "2025-07-19T16:51:33.911634Z",
     "start_time": "2025-07-19T16:51:33.908586Z"
    }
   },
   "cell_type": "code",
   "source": [
    "variable = pd.Series(data = example, index = labels)\n",
    "variable"
   ],
   "id": "28d8be980f26b540",
   "outputs": [
    {
     "data": {
      "text/plain": [
       "a    1.0\n",
       "b    3.3\n",
       "c    5.0\n",
       "d    7.2\n",
       "e    9.0\n",
       "dtype: float64"
      ]
     },
     "execution_count": 13,
     "metadata": {},
     "output_type": "execute_result"
    }
   ],
   "execution_count": 13
  },
  {
   "metadata": {
    "ExecuteTime": {
     "end_time": "2025-07-19T16:51:33.938974Z",
     "start_time": "2025-07-19T16:51:33.937468Z"
    }
   },
   "cell_type": "code",
   "source": "##Object Types",
   "id": "d490cf8a95b4fcaa",
   "outputs": [],
   "execution_count": 14
  },
  {
   "metadata": {
    "ExecuteTime": {
     "end_time": "2025-07-19T16:51:33.965858Z",
     "start_time": "2025-07-19T16:51:33.962545Z"
    }
   },
   "cell_type": "code",
   "source": "pd.Series([\"World\", 100, 5.7, False])",
   "id": "5d278cc87fa8b40e",
   "outputs": [
    {
     "data": {
      "text/plain": [
       "0    World\n",
       "1      100\n",
       "2      5.7\n",
       "3    False\n",
       "dtype: object"
      ]
     },
     "execution_count": 15,
     "metadata": {},
     "output_type": "execute_result"
    }
   ],
   "execution_count": 15
  },
  {
   "metadata": {
    "ExecuteTime": {
     "end_time": "2025-07-19T16:51:33.998380Z",
     "start_time": "2025-07-19T16:51:33.995989Z"
    }
   },
   "cell_type": "code",
   "source": [
    "example = pd.Series([\"World\", 100, 5.7, False])\n",
    "example[0]"
   ],
   "id": "6a5258899d27c536",
   "outputs": [
    {
     "data": {
      "text/plain": [
       "'World'"
      ]
     },
     "execution_count": 16,
     "metadata": {},
     "output_type": "execute_result"
    }
   ],
   "execution_count": 16
  },
  {
   "metadata": {
    "ExecuteTime": {
     "end_time": "2025-07-19T16:51:34.025223Z",
     "start_time": "2025-07-19T16:51:34.022205Z"
    }
   },
   "cell_type": "code",
   "source": [
    "print(type(example[0]))\n",
    "print(type(example[1]))\n",
    "print(type(example[2]))\n",
    "print(type(example[3]))"
   ],
   "id": "e71441be2d180c36",
   "outputs": [
    {
     "name": "stdout",
     "output_type": "stream",
     "text": [
      "<class 'str'>\n",
      "<class 'int'>\n",
      "<class 'float'>\n",
      "<class 'bool'>\n"
     ]
    }
   ],
   "execution_count": 17
  },
  {
   "metadata": {
    "ExecuteTime": {
     "end_time": "2025-07-19T16:51:34.053571Z",
     "start_time": "2025-07-19T16:51:34.048977Z"
    }
   },
   "cell_type": "code",
   "source": "pd.Series([sum, type,max])",
   "id": "3bf65303fcdbe2b0",
   "outputs": [
    {
     "data": {
      "text/plain": [
       "0    <built-in function sum>\n",
       "1             <class 'type'>\n",
       "2    <built-in function max>\n",
       "dtype: object"
      ]
     },
     "execution_count": 18,
     "metadata": {},
     "output_type": "execute_result"
    }
   ],
   "execution_count": 18
  },
  {
   "metadata": {
    "ExecuteTime": {
     "end_time": "2025-07-19T16:51:34.084431Z",
     "start_time": "2025-07-19T16:51:34.083086Z"
    }
   },
   "cell_type": "code",
   "source": "## Most Important Methods",
   "id": "3f7a8d64df18a7b0",
   "outputs": [],
   "execution_count": 19
  },
  {
   "metadata": {
    "ExecuteTime": {
     "end_time": "2025-07-19T16:51:34.111813Z",
     "start_time": "2025-07-19T16:51:34.109497Z"
    }
   },
   "cell_type": "code",
   "source": "variable = pd.Series([8, 3, 6, 5, 1], index = [\"b\", \"d\", \"c\", \"a\", \"e\"])",
   "id": "6c8538aa655cd244",
   "outputs": [],
   "execution_count": 20
  },
  {
   "metadata": {
    "ExecuteTime": {
     "end_time": "2025-07-19T16:51:34.128444Z",
     "start_time": "2025-07-19T16:51:34.123703Z"
    }
   },
   "cell_type": "code",
   "source": [
    "new_variable = variable.sort_index() ## Sort by index\n",
    "new_variable"
   ],
   "id": "96bf80c2f5fdc209",
   "outputs": [
    {
     "data": {
      "text/plain": [
       "a    5\n",
       "b    8\n",
       "c    6\n",
       "d    3\n",
       "e    1\n",
       "dtype: int64"
      ]
     },
     "execution_count": 21,
     "metadata": {},
     "output_type": "execute_result"
    }
   ],
   "execution_count": 21
  },
  {
   "metadata": {
    "ExecuteTime": {
     "end_time": "2025-07-19T16:51:34.155765Z",
     "start_time": "2025-07-19T16:51:34.151772Z"
    }
   },
   "cell_type": "code",
   "source": [
    "new_variable = variable.sort_values() ## Sort by values\n",
    "new_variable"
   ],
   "id": "c75818bfb5b2ad52",
   "outputs": [
    {
     "data": {
      "text/plain": [
       "e    1\n",
       "d    3\n",
       "a    5\n",
       "c    6\n",
       "b    8\n",
       "dtype: int64"
      ]
     },
     "execution_count": 22,
     "metadata": {},
     "output_type": "execute_result"
    }
   ],
   "execution_count": 22
  },
  {
   "metadata": {
    "ExecuteTime": {
     "end_time": "2025-07-19T16:51:34.216862Z",
     "start_time": "2025-07-19T16:51:34.212538Z"
    }
   },
   "cell_type": "code",
   "source": "variable.isin([6,1])",
   "id": "da7a85ee977c0cdc",
   "outputs": [
    {
     "data": {
      "text/plain": [
       "b    False\n",
       "d    False\n",
       "c     True\n",
       "a    False\n",
       "e     True\n",
       "dtype: bool"
      ]
     },
     "execution_count": 23,
     "metadata": {},
     "output_type": "execute_result"
    }
   ],
   "execution_count": 23
  },
  {
   "metadata": {
    "ExecuteTime": {
     "end_time": "2025-07-19T16:51:34.266540Z",
     "start_time": "2025-07-19T16:51:34.263863Z"
    }
   },
   "cell_type": "code",
   "source": "variable[variable.isin([6,1])]",
   "id": "99bf0866164bf8ba",
   "outputs": [
    {
     "data": {
      "text/plain": [
       "c    6\n",
       "e    1\n",
       "dtype: int64"
      ]
     },
     "execution_count": 24,
     "metadata": {},
     "output_type": "execute_result"
    }
   ],
   "execution_count": 24
  },
  {
   "metadata": {
    "ExecuteTime": {
     "end_time": "2025-07-19T16:51:34.312980Z",
     "start_time": "2025-07-19T16:51:34.310645Z"
    }
   },
   "cell_type": "code",
   "source": "variable.values",
   "id": "be874918cfbb7828",
   "outputs": [
    {
     "data": {
      "text/plain": [
       "array([8, 3, 6, 5, 1])"
      ]
     },
     "execution_count": 25,
     "metadata": {},
     "output_type": "execute_result"
    }
   ],
   "execution_count": 25
  },
  {
   "metadata": {
    "ExecuteTime": {
     "end_time": "2025-07-19T16:51:34.380830Z",
     "start_time": "2025-07-19T16:51:34.378175Z"
    }
   },
   "cell_type": "code",
   "source": "[i for i in variable.values]",
   "id": "7c8cf42601d84dfe",
   "outputs": [
    {
     "data": {
      "text/plain": [
       "[np.int64(8), np.int64(3), np.int64(6), np.int64(5), np.int64(1)]"
      ]
     },
     "execution_count": 26,
     "metadata": {},
     "output_type": "execute_result"
    }
   ],
   "execution_count": 26
  },
  {
   "metadata": {
    "ExecuteTime": {
     "end_time": "2025-07-19T16:51:34.415084Z",
     "start_time": "2025-07-19T16:51:34.413563Z"
    }
   },
   "cell_type": "code",
   "source": "",
   "id": "e7bd860a1fcfae3b",
   "outputs": [],
   "execution_count": null
  }
 ],
 "metadata": {
  "kernelspec": {
   "display_name": "Python [conda env:base] *",
   "language": "python",
   "name": "conda-base-py"
  },
  "language_info": {
   "codemirror_mode": {
    "name": "ipython",
    "version": 3
   },
   "file_extension": ".py",
   "mimetype": "text/x-python",
   "name": "python",
   "nbconvert_exporter": "python",
   "pygments_lexer": "ipython3",
   "version": "3.12.7"
  }
 },
 "nbformat": 4,
 "nbformat_minor": 5
}
